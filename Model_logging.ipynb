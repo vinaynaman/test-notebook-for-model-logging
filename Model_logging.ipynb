{
 "cells": [
  {
   "cell_type": "markdown",
   "metadata": {
    "tags": []
   },
   "source": [
    "# Use Case : Predictiong Bank Loan Defaults\n",
    "### A data science approach to predict and understand the applicant’s profile to minimize the risk of future loan defaults.\n",
    "\n",
    "The dataset contains information about credit applicants. Banks, globally, use this kind of dataset and type of informative data to create models to help in deciding on who to accept/refuse for a loan.\n",
    "After all the exploratory data analysis, cleansing and dealing with all the anomalies we might (will) find along the way, the patterns of a good/bad applicant will be exposed to be learned by machine learning models. \n",
    "* Machine Learning issue and objectives\n",
    "     We’re dealing with a supervised binary classification problem. The goal is to train the best machine learning model to maximize the predictive capability of deeply understanding the past customer’s profile minimizing the risk of future loan defaults.\n",
    "\n",
    "* Performance Metric\n",
    "    The metric used for the models’ evaluation is the ROC AUC given that we’re dealing with a highly unbalanced data.\n",
    "\n",
    "* Project structure\n",
    "    The project divides into three categories:\n",
    "* EDA: Exploratory Data Analysis\n",
    "* Data Wrangling: Cleansing and Feature Selection\n",
    "* Machine Learning: Predictive Modelling\n"
   ]
  },
  {
   "cell_type": "code",
   "execution_count": 1,
   "metadata": {
    "collapsed": true,
    "jupyter": {
     "outputs_hidden": true
    },
    "tags": [
     "imports"
    ]
   },
   "outputs": [
    {
     "name": "stdout",
     "output_type": "stream",
     "text": [
      "Requirement already satisfied: katonic[ml] in /opt/conda/lib/python3.8/site-packages (1.6.0)\n",
      "Requirement already satisfied: humanize in /opt/conda/lib/python3.8/site-packages (from katonic[ml]) (4.6.0)\n",
      "Requirement already satisfied: isodate in /opt/conda/lib/python3.8/site-packages (from katonic[ml]) (0.6.1)\n",
      "Requirement already satisfied: packaging==21.2 in /opt/conda/lib/python3.8/site-packages (from katonic[ml]) (21.2)\n",
      "Requirement already satisfied: scikit-learn==1.1.3 in /opt/conda/lib/python3.8/site-packages (from katonic[ml]) (1.1.3)\n",
      "Requirement already satisfied: deprecation<2.2.0,>=2.1.0 in /opt/conda/lib/python3.8/site-packages (from katonic[ml]) (2.1.0)\n",
      "Requirement already satisfied: zipp==3.5.0 in /opt/conda/lib/python3.8/site-packages (from katonic[ml]) (3.5.0)\n",
      "Requirement already satisfied: importlib-metadata==4.8.1 in /opt/conda/lib/python3.8/site-packages (from katonic[ml]) (4.8.1)\n",
      "Requirement already satisfied: LunarCalendar>=0.0.9 in /opt/conda/lib/python3.8/site-packages (from katonic[ml]) (0.0.9)\n",
      "Requirement already satisfied: parsedatetime in /opt/conda/lib/python3.8/site-packages (from katonic[ml]) (2.6)\n",
      "Requirement already satisfied: mlflow<1.24.0,>=1.20.0 in /opt/conda/lib/python3.8/site-packages (from katonic[ml]) (1.23.1)\n",
      "Requirement already satisfied: pyarrow<6.1.0,>=6.0.0 in /opt/conda/lib/python3.8/site-packages (from katonic[ml]) (6.0.1)\n",
      "Requirement already satisfied: python-dotenv in /opt/conda/lib/python3.8/site-packages (from katonic[ml]) (0.21.1)\n",
      "Requirement already satisfied: markdown>=3.0 in /opt/conda/lib/python3.8/site-packages (from katonic[ml]) (3.4.1)\n",
      "Requirement already satisfied: convertdate>=2.1.2 in /opt/conda/lib/python3.8/site-packages (from katonic[ml]) (2.4.0)\n",
      "Requirement already satisfied: click<8.1.2,>=7.1.1 in /opt/conda/lib/python3.8/site-packages (from katonic[ml]) (8.0.3)\n",
      "Requirement already satisfied: python-geohash in /opt/conda/lib/python3.8/site-packages (from katonic[ml]) (0.8.5)\n",
      "Requirement already satisfied: cron-descriptor in /opt/conda/lib/python3.8/site-packages (from katonic[ml]) (1.2.35)\n",
      "Requirement already satisfied: pydantic==1.8.2 in /opt/conda/lib/python3.8/site-packages (from katonic[ml]) (1.8.2)\n",
      "Requirement already satisfied: colorama in /opt/conda/lib/python3.8/site-packages (from katonic[ml]) (0.4.6)\n",
      "Requirement already satisfied: msgpack<1.1,>=1.0.0 in /opt/conda/lib/python3.8/site-packages (from katonic[ml]) (1.0.4)\n",
      "Requirement already satisfied: greenlet==1.1.1 in /opt/conda/lib/python3.8/site-packages (from katonic[ml]) (1.1.1)\n",
      "Requirement already satisfied: pyparsing in /opt/conda/lib/python3.8/site-packages (from katonic[ml]) (2.4.7)\n",
      "Requirement already satisfied: tqdm>=4.36.1 in /opt/conda/lib/python3.8/site-packages (from katonic[ml]) (4.62.3)\n",
      "Requirement already satisfied: certifi<2021.10.8,>=2017.4.17 in /opt/conda/lib/python3.8/site-packages (from katonic[ml]) (2021.5.30)\n",
      "Requirement already satisfied: gunicorn>=20.1.0 in /opt/conda/lib/python3.8/site-packages (from katonic[ml]) (20.1.0)\n",
      "Requirement already satisfied: python-dateutil in /opt/conda/lib/python3.8/site-packages (from katonic[ml]) (2.8.2)\n",
      "Requirement already satisfied: pyyaml<6,>=5.3 in /opt/conda/lib/python3.8/site-packages (from katonic[ml]) (5.4.1)\n",
      "Requirement already satisfied: requests<2.26.0,>=2.10.0 in /opt/conda/lib/python3.8/site-packages (from katonic[ml]) (2.25.1)\n",
      "Requirement already satisfied: func-timeout in /opt/conda/lib/python3.8/site-packages (from katonic[ml]) (4.3.5)\n",
      "Requirement already satisfied: seaborn==0.11.2 in /opt/conda/lib/python3.8/site-packages (from katonic[ml]) (0.11.2)\n",
      "Requirement already satisfied: catboost==1.1 in /opt/conda/lib/python3.8/site-packages (from katonic[ml]) (1.1)\n",
      "Requirement already satisfied: matplotlib<3.4.3,>=3.0.0 in /opt/conda/lib/python3.8/site-packages (from katonic[ml]) (3.4.2)\n",
      "Requirement already satisfied: numpy<1.24.0,>=1.19.0 in /opt/conda/lib/python3.8/site-packages (from katonic[ml]) (1.21.4)\n",
      "Requirement already satisfied: lightgbm==3.3.1 in /opt/conda/lib/python3.8/site-packages (from katonic[ml]) (3.3.1)\n",
      "Requirement already satisfied: cmdstanpy==0.9.5 in /opt/conda/lib/python3.8/site-packages (from katonic[ml]) (0.9.5)\n",
      "Requirement already satisfied: boto3==1.19.12 in /opt/conda/lib/python3.8/site-packages (from katonic[ml]) (1.19.12)\n",
      "Requirement already satisfied: optuna<2.10.0,>=2.8.0 in /opt/conda/lib/python3.8/site-packages (from katonic[ml]) (2.9.1)\n",
      "Requirement already satisfied: xgboost==1.5.0 in /opt/conda/lib/python3.8/site-packages (from katonic[ml]) (1.5.0)\n",
      "Requirement already satisfied: pandas<1.5.0,>=1.3.5 in /opt/conda/lib/python3.8/site-packages (from katonic[ml]) (1.4.4)\n",
      "Requirement already satisfied: protobuf==3.19.4 in /opt/conda/lib/python3.8/site-packages (from katonic[ml]) (3.19.4)\n",
      "Requirement already satisfied: s3transfer<0.6.0,>=0.5.0 in /opt/conda/lib/python3.8/site-packages (from boto3==1.19.12->katonic[ml]) (0.5.2)\n",
      "Requirement already satisfied: botocore<1.23.0,>=1.22.12 in /opt/conda/lib/python3.8/site-packages (from boto3==1.19.12->katonic[ml]) (1.22.12)\n",
      "Requirement already satisfied: jmespath<1.0.0,>=0.7.1 in /opt/conda/lib/python3.8/site-packages (from boto3==1.19.12->katonic[ml]) (0.10.0)\n",
      "Requirement already satisfied: six in /opt/conda/lib/python3.8/site-packages (from catboost==1.1->katonic[ml]) (1.15.0)\n",
      "Requirement already satisfied: graphviz in /opt/conda/lib/python3.8/site-packages (from catboost==1.1->katonic[ml]) (0.20.1)\n",
      "Requirement already satisfied: plotly in /opt/conda/lib/python3.8/site-packages (from catboost==1.1->katonic[ml]) (5.13.0)\n",
      "Requirement already satisfied: scipy in /opt/conda/lib/python3.8/site-packages (from catboost==1.1->katonic[ml]) (1.10.1)\n",
      "Requirement already satisfied: wheel in /opt/conda/lib/python3.8/site-packages (from lightgbm==3.3.1->katonic[ml]) (0.37.0)\n",
      "Requirement already satisfied: typing-extensions>=3.7.4.3 in /opt/conda/lib/python3.8/site-packages (from pydantic==1.8.2->katonic[ml]) (3.10.0.2)\n",
      "Requirement already satisfied: joblib>=1.0.0 in /opt/conda/lib/python3.8/site-packages (from scikit-learn==1.1.3->katonic[ml]) (1.2.0)\n",
      "Requirement already satisfied: threadpoolctl>=2.0.0 in /opt/conda/lib/python3.8/site-packages (from scikit-learn==1.1.3->katonic[ml]) (3.1.0)\n",
      "Requirement already satisfied: pymeeus<=1,>=0.3.13 in /opt/conda/lib/python3.8/site-packages (from convertdate>=2.1.2->katonic[ml]) (0.5.12)\n",
      "Requirement already satisfied: setuptools>=3.0 in /opt/conda/lib/python3.8/site-packages (from gunicorn>=20.1.0->katonic[ml]) (58.0.4)\n",
      "Requirement already satisfied: ephem>=3.7.5.3 in /opt/conda/lib/python3.8/site-packages (from LunarCalendar>=0.0.9->katonic[ml]) (4.1.4)\n",
      "Requirement already satisfied: pytz in /opt/conda/lib/python3.8/site-packages (from LunarCalendar>=0.0.9->katonic[ml]) (2021.3)\n",
      "Requirement already satisfied: kiwisolver>=1.0.1 in /opt/conda/lib/python3.8/site-packages (from matplotlib<3.4.3,>=3.0.0->katonic[ml]) (1.4.4)\n",
      "Requirement already satisfied: pillow>=6.2.0 in /opt/conda/lib/python3.8/site-packages (from matplotlib<3.4.3,>=3.0.0->katonic[ml]) (9.4.0)\n",
      "Requirement already satisfied: cycler>=0.10 in /opt/conda/lib/python3.8/site-packages (from matplotlib<3.4.3,>=3.0.0->katonic[ml]) (0.11.0)\n",
      "Requirement already satisfied: gitpython>=2.1.0 in /opt/conda/lib/python3.8/site-packages (from mlflow<1.24.0,>=1.20.0->katonic[ml]) (3.1.31)\n",
      "Requirement already satisfied: sqlparse>=0.3.1 in /opt/conda/lib/python3.8/site-packages (from mlflow<1.24.0,>=1.20.0->katonic[ml]) (0.4.3)\n",
      "Requirement already satisfied: entrypoints in /opt/conda/lib/python3.8/site-packages (from mlflow<1.24.0,>=1.20.0->katonic[ml]) (0.3)\n",
      "Requirement already satisfied: Flask in /opt/conda/lib/python3.8/site-packages (from mlflow<1.24.0,>=1.20.0->katonic[ml]) (2.2.3)\n",
      "Requirement already satisfied: sqlalchemy in /opt/conda/lib/python3.8/site-packages (from mlflow<1.24.0,>=1.20.0->katonic[ml]) (1.4.46)\n",
      "Requirement already satisfied: databricks-cli>=0.8.7 in /opt/conda/lib/python3.8/site-packages (from mlflow<1.24.0,>=1.20.0->katonic[ml]) (0.17.4)\n",
      "Requirement already satisfied: docker>=4.0.0 in /opt/conda/lib/python3.8/site-packages (from mlflow<1.24.0,>=1.20.0->katonic[ml]) (5.0.3)\n",
      "Requirement already satisfied: cloudpickle in /opt/conda/lib/python3.8/site-packages (from mlflow<1.24.0,>=1.20.0->katonic[ml]) (2.0.0)\n",
      "Requirement already satisfied: alembic in /opt/conda/lib/python3.8/site-packages (from mlflow<1.24.0,>=1.20.0->katonic[ml]) (1.9.4)\n",
      "Requirement already satisfied: querystring-parser in /opt/conda/lib/python3.8/site-packages (from mlflow<1.24.0,>=1.20.0->katonic[ml]) (1.2.4)\n",
      "Requirement already satisfied: prometheus-flask-exporter in /opt/conda/lib/python3.8/site-packages (from mlflow<1.24.0,>=1.20.0->katonic[ml]) (0.22.2)\n",
      "Requirement already satisfied: cliff in /opt/conda/lib/python3.8/site-packages (from optuna<2.10.0,>=2.8.0->katonic[ml]) (4.2.0)\n",
      "Requirement already satisfied: cmaes>=0.8.2 in /opt/conda/lib/python3.8/site-packages (from optuna<2.10.0,>=2.8.0->katonic[ml]) (0.9.1)\n",
      "Requirement already satisfied: colorlog in /opt/conda/lib/python3.8/site-packages (from optuna<2.10.0,>=2.8.0->katonic[ml]) (6.7.0)\n",
      "Requirement already satisfied: idna<3,>=2.5 in /opt/conda/lib/python3.8/site-packages (from requests<2.26.0,>=2.10.0->katonic[ml]) (2.10)\n",
      "Requirement already satisfied: chardet<5,>=3.0.2 in /opt/conda/lib/python3.8/site-packages (from requests<2.26.0,>=2.10.0->katonic[ml]) (4.0.0)\n",
      "Requirement already satisfied: urllib3<1.27,>=1.21.1 in /opt/conda/lib/python3.8/site-packages (from requests<2.26.0,>=2.10.0->katonic[ml]) (1.26.7)\n",
      "Requirement already satisfied: pyjwt>=1.7.0 in /opt/conda/lib/python3.8/site-packages (from databricks-cli>=0.8.7->mlflow<1.24.0,>=1.20.0->katonic[ml]) (2.3.0)\n",
      "Requirement already satisfied: oauthlib>=3.1.0 in /opt/conda/lib/python3.8/site-packages (from databricks-cli>=0.8.7->mlflow<1.24.0,>=1.20.0->katonic[ml]) (3.1.1)\n",
      "Requirement already satisfied: tabulate>=0.7.7 in /opt/conda/lib/python3.8/site-packages (from databricks-cli>=0.8.7->mlflow<1.24.0,>=1.20.0->katonic[ml]) (0.8.9)\n",
      "Requirement already satisfied: websocket-client>=0.32.0 in /opt/conda/lib/python3.8/site-packages (from docker>=4.0.0->mlflow<1.24.0,>=1.20.0->katonic[ml]) (1.2.1)\n",
      "Requirement already satisfied: gitdb<5,>=4.0.1 in /opt/conda/lib/python3.8/site-packages (from gitpython>=2.1.0->mlflow<1.24.0,>=1.20.0->katonic[ml]) (4.0.10)\n",
      "Requirement already satisfied: Mako in /opt/conda/lib/python3.8/site-packages (from alembic->mlflow<1.24.0,>=1.20.0->katonic[ml]) (1.2.4)\n",
      "Requirement already satisfied: importlib-resources in /opt/conda/lib/python3.8/site-packages (from alembic->mlflow<1.24.0,>=1.20.0->katonic[ml]) (5.4.0)\n",
      "Requirement already satisfied: cmd2>=1.0.0 in /opt/conda/lib/python3.8/site-packages (from cliff->optuna<2.10.0,>=2.8.0->katonic[ml]) (2.4.3)\n",
      "Requirement already satisfied: PrettyTable>=0.7.2 in /opt/conda/lib/python3.8/site-packages (from cliff->optuna<2.10.0,>=2.8.0->katonic[ml]) (3.6.0)\n",
      "Requirement already satisfied: autopage>=0.4.0 in /opt/conda/lib/python3.8/site-packages (from cliff->optuna<2.10.0,>=2.8.0->katonic[ml]) (0.5.1)\n",
      "Requirement already satisfied: stevedore>=2.0.1 in /opt/conda/lib/python3.8/site-packages (from cliff->optuna<2.10.0,>=2.8.0->katonic[ml]) (5.0.0)\n",
      "Requirement already satisfied: itsdangerous>=2.0 in /opt/conda/lib/python3.8/site-packages (from Flask->mlflow<1.24.0,>=1.20.0->katonic[ml]) (2.1.2)\n",
      "Requirement already satisfied: Jinja2>=3.0 in /opt/conda/lib/python3.8/site-packages (from Flask->mlflow<1.24.0,>=1.20.0->katonic[ml]) (3.1.2)\n",
      "Requirement already satisfied: Werkzeug>=2.2.2 in /opt/conda/lib/python3.8/site-packages (from Flask->mlflow<1.24.0,>=1.20.0->katonic[ml]) (2.2.3)\n",
      "Requirement already satisfied: tenacity>=6.2.0 in /opt/conda/lib/python3.8/site-packages (from plotly->catboost==1.1->katonic[ml]) (8.2.1)\n",
      "Requirement already satisfied: prometheus-client in /opt/conda/lib/python3.8/site-packages (from prometheus-flask-exporter->mlflow<1.24.0,>=1.20.0->katonic[ml]) (0.12.0)\n",
      "Requirement already satisfied: pyperclip>=1.6 in /opt/conda/lib/python3.8/site-packages (from cmd2>=1.0.0->cliff->optuna<2.10.0,>=2.8.0->katonic[ml]) (1.8.2)\n",
      "Requirement already satisfied: wcwidth>=0.1.7 in /opt/conda/lib/python3.8/site-packages (from cmd2>=1.0.0->cliff->optuna<2.10.0,>=2.8.0->katonic[ml]) (0.2.5)\n",
      "Requirement already satisfied: attrs>=16.3.0 in /opt/conda/lib/python3.8/site-packages (from cmd2>=1.0.0->cliff->optuna<2.10.0,>=2.8.0->katonic[ml]) (20.3.0)\n",
      "Requirement already satisfied: smmap<6,>=3.0.1 in /opt/conda/lib/python3.8/site-packages (from gitdb<5,>=4.0.1->gitpython>=2.1.0->mlflow<1.24.0,>=1.20.0->katonic[ml]) (5.0.0)\n",
      "Requirement already satisfied: MarkupSafe>=2.0 in /opt/conda/lib/python3.8/site-packages (from Jinja2>=3.0->Flask->mlflow<1.24.0,>=1.20.0->katonic[ml]) (2.1.2)\n",
      "Requirement already satisfied: pbr!=2.1.0,>=2.0.0 in /opt/conda/lib/python3.8/site-packages (from stevedore>=2.0.1->cliff->optuna<2.10.0,>=2.8.0->katonic[ml]) (5.11.1)\n"
     ]
    },
    {
     "name": "stderr",
     "output_type": "stream",
     "text": [
      "WARNING: Running pip as the 'root' user can result in broken permissions and conflicting behaviour with the system package manager. It is recommended to use a virtual environment instead: https://pip.pypa.io/warnings/venv\n",
      "WARNING: You are using pip version 21.3.1; however, version 23.0.1 is available.\n",
      "You should consider upgrading via the '/opt/conda/bin/python -m pip install --upgrade pip' command.\n"
     ]
    },
    {
     "data": {
      "text/plain": [
       "0"
      ]
     },
     "execution_count": 1,
     "metadata": {},
     "output_type": "execute_result"
    }
   ],
   "source": [
    "import os\n",
    "os.system(\"pip install katonic[ml]\")"
   ]
  },
  {
   "cell_type": "code",
   "execution_count": 2,
   "metadata": {
    "tags": []
   },
   "outputs": [],
   "source": [
    "# Importing the Necessary packages\n",
    "\n",
    "import warnings\n",
    "warnings.filterwarnings(\"ignore\")\n",
    "import os\n",
    "import pickle\n",
    "\n",
    "import numpy as np\n",
    "import pandas as pd\n",
    "pd.set_option(\"display.max_columns\",100)\n",
    "from scipy import stats\n",
    "\n",
    "# from imblearn.over_sampling import RandomOverSampler\n",
    "from sklearn.preprocessing import OneHotEncoder\n",
    "from sklearn.model_selection import train_test_split\n",
    "\n",
    "from katonic.ml.client import set_exp\n",
    "from katonic.ml.classification import Classifier\n",
    "\n",
    "import matplotlib.pyplot as plt\n",
    "import seaborn as sns\n",
    "import matplotlib.gridspec as gridspec"
   ]
  },
  {
   "cell_type": "code",
   "execution_count": 4,
   "metadata": {
    "tags": [
     "block:loading_data"
    ]
   },
   "outputs": [],
   "source": [
    "# Loading the data.\n",
    "\n",
    "clean_data = pd.read_csv(\"https://raw.githubusercontent.com/vinaynaman/miscellaneous/main/test_data_for_model_creation.csv\")"
   ]
  },
  {
   "cell_type": "code",
   "execution_count": 5,
   "metadata": {},
   "outputs": [
    {
     "data": {
      "text/html": [
       "<div>\n",
       "<style scoped>\n",
       "    .dataframe tbody tr th:only-of-type {\n",
       "        vertical-align: middle;\n",
       "    }\n",
       "\n",
       "    .dataframe tbody tr th {\n",
       "        vertical-align: top;\n",
       "    }\n",
       "\n",
       "    .dataframe thead th {\n",
       "        text-align: right;\n",
       "    }\n",
       "</style>\n",
       "<table border=\"1\" class=\"dataframe\">\n",
       "  <thead>\n",
       "    <tr style=\"text-align: right;\">\n",
       "      <th></th>\n",
       "      <th>Unnamed: 0</th>\n",
       "      <th>id</th>\n",
       "      <th>event_timestamp</th>\n",
       "      <th>annual_inc</th>\n",
       "      <th>short_emp</th>\n",
       "      <th>emp_length_num</th>\n",
       "      <th>dti</th>\n",
       "      <th>last_delinq_none</th>\n",
       "      <th>revol_util</th>\n",
       "      <th>total_rec_late_fee</th>\n",
       "      <th>od_ratio</th>\n",
       "      <th>bad_loan</th>\n",
       "      <th>grade_A</th>\n",
       "      <th>grade_B</th>\n",
       "      <th>grade_C</th>\n",
       "      <th>grade_D</th>\n",
       "      <th>grade_E</th>\n",
       "      <th>grade_F</th>\n",
       "      <th>grade_G</th>\n",
       "      <th>home_ownership_MORTGAGE</th>\n",
       "      <th>home_ownership_OWN</th>\n",
       "      <th>home_ownership_RENT</th>\n",
       "      <th>purpose_car</th>\n",
       "      <th>purpose_credit_card</th>\n",
       "      <th>purpose_debt_consolidation</th>\n",
       "      <th>purpose_home_improvement</th>\n",
       "      <th>purpose_house</th>\n",
       "      <th>purpose_major_purchase</th>\n",
       "      <th>purpose_medical</th>\n",
       "      <th>purpose_moving</th>\n",
       "      <th>purpose_other</th>\n",
       "      <th>purpose_small_business</th>\n",
       "      <th>purpose_vacation</th>\n",
       "      <th>purpose_wedding</th>\n",
       "      <th>term_ 36 months</th>\n",
       "      <th>term_ 60 months</th>\n",
       "    </tr>\n",
       "  </thead>\n",
       "  <tbody>\n",
       "    <tr>\n",
       "      <th>0</th>\n",
       "      <td>0</td>\n",
       "      <td>11454641</td>\n",
       "      <td>2016-02-08 00:37:08+00:00</td>\n",
       "      <td>100000</td>\n",
       "      <td>1</td>\n",
       "      <td>1</td>\n",
       "      <td>26.27</td>\n",
       "      <td>1</td>\n",
       "      <td>43.2</td>\n",
       "      <td>0.0</td>\n",
       "      <td>0.160624</td>\n",
       "      <td>0</td>\n",
       "      <td>1.0</td>\n",
       "      <td>0.0</td>\n",
       "      <td>0.0</td>\n",
       "      <td>0.0</td>\n",
       "      <td>0.0</td>\n",
       "      <td>0.0</td>\n",
       "      <td>0.0</td>\n",
       "      <td>0.0</td>\n",
       "      <td>0.0</td>\n",
       "      <td>1.0</td>\n",
       "      <td>0.0</td>\n",
       "      <td>1.0</td>\n",
       "      <td>0.0</td>\n",
       "      <td>0.0</td>\n",
       "      <td>0.0</td>\n",
       "      <td>0.0</td>\n",
       "      <td>0.0</td>\n",
       "      <td>0.0</td>\n",
       "      <td>0.0</td>\n",
       "      <td>0.0</td>\n",
       "      <td>0.0</td>\n",
       "      <td>0.0</td>\n",
       "      <td>1.0</td>\n",
       "      <td>0.0</td>\n",
       "    </tr>\n",
       "    <tr>\n",
       "      <th>1</th>\n",
       "      <td>1</td>\n",
       "      <td>9604874</td>\n",
       "      <td>2016-02-08 05:56:20+00:00</td>\n",
       "      <td>83000</td>\n",
       "      <td>0</td>\n",
       "      <td>4</td>\n",
       "      <td>5.39</td>\n",
       "      <td>0</td>\n",
       "      <td>21.5</td>\n",
       "      <td>0.0</td>\n",
       "      <td>0.810777</td>\n",
       "      <td>0</td>\n",
       "      <td>1.0</td>\n",
       "      <td>0.0</td>\n",
       "      <td>0.0</td>\n",
       "      <td>0.0</td>\n",
       "      <td>0.0</td>\n",
       "      <td>0.0</td>\n",
       "      <td>0.0</td>\n",
       "      <td>0.0</td>\n",
       "      <td>1.0</td>\n",
       "      <td>0.0</td>\n",
       "      <td>0.0</td>\n",
       "      <td>1.0</td>\n",
       "      <td>0.0</td>\n",
       "      <td>0.0</td>\n",
       "      <td>0.0</td>\n",
       "      <td>0.0</td>\n",
       "      <td>0.0</td>\n",
       "      <td>0.0</td>\n",
       "      <td>0.0</td>\n",
       "      <td>0.0</td>\n",
       "      <td>0.0</td>\n",
       "      <td>0.0</td>\n",
       "      <td>1.0</td>\n",
       "      <td>0.0</td>\n",
       "    </tr>\n",
       "    <tr>\n",
       "      <th>2</th>\n",
       "      <td>2</td>\n",
       "      <td>9684700</td>\n",
       "      <td>2016-02-08 06:15:39+00:00</td>\n",
       "      <td>78000</td>\n",
       "      <td>0</td>\n",
       "      <td>11</td>\n",
       "      <td>18.45</td>\n",
       "      <td>1</td>\n",
       "      <td>46.3</td>\n",
       "      <td>0.0</td>\n",
       "      <td>0.035147</td>\n",
       "      <td>1</td>\n",
       "      <td>0.0</td>\n",
       "      <td>0.0</td>\n",
       "      <td>0.0</td>\n",
       "      <td>1.0</td>\n",
       "      <td>0.0</td>\n",
       "      <td>0.0</td>\n",
       "      <td>0.0</td>\n",
       "      <td>1.0</td>\n",
       "      <td>0.0</td>\n",
       "      <td>0.0</td>\n",
       "      <td>0.0</td>\n",
       "      <td>0.0</td>\n",
       "      <td>1.0</td>\n",
       "      <td>0.0</td>\n",
       "      <td>0.0</td>\n",
       "      <td>0.0</td>\n",
       "      <td>0.0</td>\n",
       "      <td>0.0</td>\n",
       "      <td>0.0</td>\n",
       "      <td>0.0</td>\n",
       "      <td>0.0</td>\n",
       "      <td>0.0</td>\n",
       "      <td>0.0</td>\n",
       "      <td>1.0</td>\n",
       "    </tr>\n",
       "    <tr>\n",
       "      <th>3</th>\n",
       "      <td>3</td>\n",
       "      <td>9695736</td>\n",
       "      <td>2016-02-08 06:15:39+00:00</td>\n",
       "      <td>37536</td>\n",
       "      <td>0</td>\n",
       "      <td>6</td>\n",
       "      <td>12.28</td>\n",
       "      <td>0</td>\n",
       "      <td>10.7</td>\n",
       "      <td>0.0</td>\n",
       "      <td>0.534887</td>\n",
       "      <td>1</td>\n",
       "      <td>0.0</td>\n",
       "      <td>0.0</td>\n",
       "      <td>0.0</td>\n",
       "      <td>1.0</td>\n",
       "      <td>0.0</td>\n",
       "      <td>0.0</td>\n",
       "      <td>0.0</td>\n",
       "      <td>1.0</td>\n",
       "      <td>0.0</td>\n",
       "      <td>0.0</td>\n",
       "      <td>0.0</td>\n",
       "      <td>0.0</td>\n",
       "      <td>0.0</td>\n",
       "      <td>0.0</td>\n",
       "      <td>0.0</td>\n",
       "      <td>0.0</td>\n",
       "      <td>1.0</td>\n",
       "      <td>0.0</td>\n",
       "      <td>0.0</td>\n",
       "      <td>0.0</td>\n",
       "      <td>0.0</td>\n",
       "      <td>0.0</td>\n",
       "      <td>0.0</td>\n",
       "      <td>1.0</td>\n",
       "    </tr>\n",
       "    <tr>\n",
       "      <th>4</th>\n",
       "      <td>4</td>\n",
       "      <td>9795013</td>\n",
       "      <td>2016-02-08 06:51:45+00:00</td>\n",
       "      <td>65000</td>\n",
       "      <td>0</td>\n",
       "      <td>11</td>\n",
       "      <td>11.26</td>\n",
       "      <td>0</td>\n",
       "      <td>15.2</td>\n",
       "      <td>0.0</td>\n",
       "      <td>0.166500</td>\n",
       "      <td>0</td>\n",
       "      <td>0.0</td>\n",
       "      <td>0.0</td>\n",
       "      <td>0.0</td>\n",
       "      <td>1.0</td>\n",
       "      <td>0.0</td>\n",
       "      <td>0.0</td>\n",
       "      <td>0.0</td>\n",
       "      <td>1.0</td>\n",
       "      <td>0.0</td>\n",
       "      <td>0.0</td>\n",
       "      <td>0.0</td>\n",
       "      <td>0.0</td>\n",
       "      <td>1.0</td>\n",
       "      <td>0.0</td>\n",
       "      <td>0.0</td>\n",
       "      <td>0.0</td>\n",
       "      <td>0.0</td>\n",
       "      <td>0.0</td>\n",
       "      <td>0.0</td>\n",
       "      <td>0.0</td>\n",
       "      <td>0.0</td>\n",
       "      <td>0.0</td>\n",
       "      <td>1.0</td>\n",
       "      <td>0.0</td>\n",
       "    </tr>\n",
       "  </tbody>\n",
       "</table>\n",
       "</div>"
      ],
      "text/plain": [
       "   Unnamed: 0        id            event_timestamp  annual_inc  short_emp  \\\n",
       "0           0  11454641  2016-02-08 00:37:08+00:00      100000          1   \n",
       "1           1   9604874  2016-02-08 05:56:20+00:00       83000          0   \n",
       "2           2   9684700  2016-02-08 06:15:39+00:00       78000          0   \n",
       "3           3   9695736  2016-02-08 06:15:39+00:00       37536          0   \n",
       "4           4   9795013  2016-02-08 06:51:45+00:00       65000          0   \n",
       "\n",
       "   emp_length_num    dti  last_delinq_none  revol_util  total_rec_late_fee  \\\n",
       "0               1  26.27                 1        43.2                 0.0   \n",
       "1               4   5.39                 0        21.5                 0.0   \n",
       "2              11  18.45                 1        46.3                 0.0   \n",
       "3               6  12.28                 0        10.7                 0.0   \n",
       "4              11  11.26                 0        15.2                 0.0   \n",
       "\n",
       "   od_ratio  bad_loan  grade_A  grade_B  grade_C  grade_D  grade_E  grade_F  \\\n",
       "0  0.160624         0      1.0      0.0      0.0      0.0      0.0      0.0   \n",
       "1  0.810777         0      1.0      0.0      0.0      0.0      0.0      0.0   \n",
       "2  0.035147         1      0.0      0.0      0.0      1.0      0.0      0.0   \n",
       "3  0.534887         1      0.0      0.0      0.0      1.0      0.0      0.0   \n",
       "4  0.166500         0      0.0      0.0      0.0      1.0      0.0      0.0   \n",
       "\n",
       "   grade_G  home_ownership_MORTGAGE  home_ownership_OWN  home_ownership_RENT  \\\n",
       "0      0.0                      0.0                 0.0                  1.0   \n",
       "1      0.0                      0.0                 1.0                  0.0   \n",
       "2      0.0                      1.0                 0.0                  0.0   \n",
       "3      0.0                      1.0                 0.0                  0.0   \n",
       "4      0.0                      1.0                 0.0                  0.0   \n",
       "\n",
       "   purpose_car  purpose_credit_card  purpose_debt_consolidation  \\\n",
       "0          0.0                  1.0                         0.0   \n",
       "1          0.0                  1.0                         0.0   \n",
       "2          0.0                  0.0                         1.0   \n",
       "3          0.0                  0.0                         0.0   \n",
       "4          0.0                  0.0                         1.0   \n",
       "\n",
       "   purpose_home_improvement  purpose_house  purpose_major_purchase  \\\n",
       "0                       0.0            0.0                     0.0   \n",
       "1                       0.0            0.0                     0.0   \n",
       "2                       0.0            0.0                     0.0   \n",
       "3                       0.0            0.0                     0.0   \n",
       "4                       0.0            0.0                     0.0   \n",
       "\n",
       "   purpose_medical  purpose_moving  purpose_other  purpose_small_business  \\\n",
       "0              0.0             0.0            0.0                     0.0   \n",
       "1              0.0             0.0            0.0                     0.0   \n",
       "2              0.0             0.0            0.0                     0.0   \n",
       "3              1.0             0.0            0.0                     0.0   \n",
       "4              0.0             0.0            0.0                     0.0   \n",
       "\n",
       "   purpose_vacation  purpose_wedding  term_ 36 months  term_ 60 months  \n",
       "0               0.0              0.0              1.0              0.0  \n",
       "1               0.0              0.0              1.0              0.0  \n",
       "2               0.0              0.0              0.0              1.0  \n",
       "3               0.0              0.0              0.0              1.0  \n",
       "4               0.0              0.0              1.0              0.0  "
      ]
     },
     "execution_count": 5,
     "metadata": {},
     "output_type": "execute_result"
    }
   ],
   "source": [
    "clean_data.head()"
   ]
  },
  {
   "cell_type": "code",
   "execution_count": 6,
   "metadata": {},
   "outputs": [],
   "source": [
    "clean_data.drop(\"Unnamed: 0\", axis=1, inplace=True)"
   ]
  },
  {
   "cell_type": "code",
   "execution_count": 7,
   "metadata": {
    "tags": [
     "block:splitting_data",
     "prev:feature_engineering"
    ]
   },
   "outputs": [],
   "source": [
    "# Before doing the training. We need to split Truedata for training and testing.\n",
    "# Separating the data into Dependent and independent features.\n",
    "\n",
    "X = clean_data.drop([\"id\",\"event_timestamp\",\"bad_loan\"],axis = 1)\n",
    "y = clean_data[\"bad_loan\"]"
   ]
  },
  {
   "cell_type": "markdown",
   "metadata": {
    "tags": []
   },
   "source": [
    "#### Splitting the Data in 80:20 ratio for train and test repectively."
   ]
  },
  {
   "cell_type": "code",
   "execution_count": 8,
   "metadata": {
    "tags": []
   },
   "outputs": [],
   "source": [
    "# Splitting the Dataset.\n",
    "\n",
    "X_train, X_test, y_train, y_test = train_test_split(X, y, test_size=0.20, random_state=101, shuffle=True)\n",
    "# ros = RandomOverSampler()\n",
    "\n",
    "# X_train, y_train = ros.fit_resample(X_train, y_train)"
   ]
  },
  {
   "cell_type": "code",
   "execution_count": 9,
   "metadata": {
    "tags": []
   },
   "outputs": [
    {
     "data": {
      "text/plain": [
       "<Experiment: artifact_location='s3://models/21', experiment_id='21', lifecycle_stage='active', name='test-exp', tags={}>"
      ]
     },
     "execution_count": 9,
     "metadata": {},
     "output_type": "execute_result"
    }
   ],
   "source": [
    "# Creating a new experiment using set_exp function from ml client.\n",
    "exp_name = \"test-exp\"\n",
    "\n",
    "set_exp(exp_name)"
   ]
  },
  {
   "cell_type": "code",
   "execution_count": 10,
   "metadata": {
    "tags": []
   },
   "outputs": [],
   "source": [
    "# Let's Initialize an object for Our Auto ML Classifier along with the training, testing data and an experiment name.\n",
    "\n",
    "classifier = Classifier(X_train, X_test, y_train, y_test, experiment_name=exp_name)"
   ]
  },
  {
   "cell_type": "code",
   "execution_count": 11,
   "metadata": {
    "tags": []
   },
   "outputs": [],
   "source": [
    "exp_id = classifier.id"
   ]
  },
  {
   "cell_type": "code",
   "execution_count": 12,
   "metadata": {
    "tags": []
   },
   "outputs": [
    {
     "name": "stdout",
     "output_type": "stream",
     "text": [
      "experiment name :  test-exp\n",
      "experiment location :  s3://models/21\n",
      "experiment id :  21\n",
      "experiment status :  active\n"
     ]
    }
   ],
   "source": [
    "print(\"experiment name : \",classifier.name)\n",
    "print(\"experiment location : \",classifier.location)\n",
    "print(\"experiment id : \",classifier.id)\n",
    "print(\"experiment status : \",classifier.stage)"
   ]
  },
  {
   "cell_type": "code",
   "execution_count": 13,
   "metadata": {
    "tags": []
   },
   "outputs": [],
   "source": [
    "# Now we have successfully setup out Evironment to experiement all the models."
   ]
  },
  {
   "cell_type": "markdown",
   "metadata": {
    "tags": []
   },
   "source": [
    "### Logistic Regression"
   ]
  },
  {
   "cell_type": "code",
   "execution_count": 14,
   "metadata": {
    "tags": [
     "block:logistic_regression",
     "prev:splitting_data"
    ]
   },
   "outputs": [
    {
     "name": "stderr",
     "output_type": "stream",
     "text": [
      "\u001b[32m[I 2023-03-10 08:06:20,669]\u001b[0m A new study created in memory with name: no-name-6121aa66-58ec-4b37-bc64-3ddcc58b1523\u001b[0m\n",
      "\u001b[32m[I 2023-03-10 08:06:23,161]\u001b[0m Trial 0 finished with value: 0.5 and parameters: {'solver': 'sag', 'C': 0.6}. Best is trial 0 with value: 0.5.\u001b[0m\n",
      "\u001b[32m[I 2023-03-10 08:06:25,057]\u001b[0m Trial 1 finished with value: 0.5 and parameters: {'solver': 'lbfgs', 'C': 0.8}. Best is trial 0 with value: 0.5.\u001b[0m\n",
      "\u001b[32m[I 2023-03-10 08:06:27,037]\u001b[0m Trial 2 finished with value: 0.5 and parameters: {'solver': 'lbfgs', 'C': 0.8}. Best is trial 0 with value: 0.5.\u001b[0m\n",
      "\u001b[32m[I 2023-03-10 08:06:28,941]\u001b[0m Trial 3 finished with value: 0.5 and parameters: {'solver': 'liblinear', 'C': 0.7}. Best is trial 0 with value: 0.5.\u001b[0m\n",
      "\u001b[32m[I 2023-03-10 08:06:31,370]\u001b[0m Trial 4 finished with value: 0.5 and parameters: {'solver': 'sag', 'C': 0.9}. Best is trial 0 with value: 0.5.\u001b[0m\n"
     ]
    },
    {
     "name": "stdout",
     "output_type": "stream",
     "text": [
      "Number of finished trials:  5\n",
      "Best trial:\n",
      "  auc_roc_score:  0.5\n",
      "  Params: \n",
      "    solver: sag\n",
      "    C: 0.6\n"
     ]
    },
    {
     "data": {
      "text/html": [
       "<iframe\n",
       "    scrolling=\"no\"\n",
       "    width=\"100%\"\n",
       "    height=\"545px\"\n",
       "    src=\"iframe_figures/figure_14.html\"\n",
       "    frameborder=\"0\"\n",
       "    allowfullscreen\n",
       "></iframe>\n"
      ]
     },
     "metadata": {},
     "output_type": "display_data"
    }
   ],
   "source": [
    "# Let's Initialize an object for Our Auto ML Classifier along with the training, testing data and an experiment name.\n",
    "\n",
    "classifier = Classifier(X_train, X_test, y_train, y_test, experiment_name=exp_name)\n",
    "classifier.LogisticRegression()\n",
    "\n",
    "lrparams={\n",
    "'solver':{\n",
    "    'values': ['liblinear', 'lbfgs', 'sag'],\n",
    "    'type': 'categorical'\n",
    "},\n",
    "    'C':{\n",
    "        'low': 0.6,\n",
    "        'high': 1.0,\n",
    "        'type': 'float'\n",
    "    }\n",
    "}\n",
    "\n",
    "classifier.LogisticRegression(is_tune = True, params = lrparams)"
   ]
  }
 ],
 "metadata": {
  "kernelspec": {
   "display_name": "Python 3 (ipykernel)",
   "language": "python",
   "name": "python3"
  },
  "kubeflow_notebook": {
   "autosnapshot": false,
   "docker_image": "katonic/usecaseb1:4.0",
   "experiment": {
    "id": "new",
    "name": "loan-default-prediction-exp"
   },
   "experiment_name": "loan-default-prediction-exp",
   "katib_metadata": {
    "algorithm": {
     "algorithmName": "grid"
    },
    "maxFailedTrialCount": 3,
    "maxTrialCount": 12,
    "objective": {
     "objectiveMetricName": "",
     "type": "minimize"
    },
    "parallelTrialCount": 3,
    "parameters": []
   },
   "katib_run": false,
   "pipeline_description": "pipeline for loan default prediction",
   "pipeline_name": "loan-default-prediction-pipeline",
   "snapshot_volumes": false,
   "steps_defaults": [],
   "storage_class_name": "kfs",
   "volume_access_mode": "rwo",
   "volumes": []
  },
  "language_info": {
   "codemirror_mode": {
    "name": "ipython",
    "version": 3
   },
   "file_extension": ".py",
   "mimetype": "text/x-python",
   "name": "python",
   "nbconvert_exporter": "python",
   "pygments_lexer": "ipython3",
   "version": "3.8.12"
  }
 },
 "nbformat": 4,
 "nbformat_minor": 5
}
